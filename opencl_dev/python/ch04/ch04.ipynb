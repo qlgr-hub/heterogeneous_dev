{
 "cells": [
  {
   "cell_type": "code",
   "execution_count": 27,
   "id": "f8f00a4e",
   "metadata": {},
   "outputs": [
    {
     "name": "stdout",
     "output_type": "stream",
     "text": [
      "[<pyopencl.Device 'Oclgrind Simulator' on 'Oclgrind' at 0x55d1a05203b0>]\n",
      "[<pyopencl.Device 'NVIDIA GeForce RTX 4070 Ti' on 'NVIDIA CUDA' at 0x55d1a0523800>]\n",
      "[<pyopencl.Device 'pthread-AMD Ryzen 9 7950X 16-Core Processor' on 'Portable Computing Language' at 0x55d1a0524f70>]\n",
      "<class 'numpy.int32'>\n"
     ]
    }
   ],
   "source": [
    "import pyopencl as cl\n",
    "import numpy as np\n",
    "import pyopencl.cltypes\n",
    "\n",
    "platforms = cl.get_platforms()\n",
    "\n",
    "for platfrom in platforms:\n",
    "    devices = platfrom.get_devices()\n",
    "    print(devices)\n",
    "    \n",
    "int_a = cl.cltypes.int(256)\n",
    "print(type(int_a))"
   ]
  },
  {
   "cell_type": "code",
   "execution_count": 26,
   "id": "e80aacf2",
   "metadata": {},
   "outputs": [
    {
     "name": "stdout",
     "output_type": "stream",
     "text": [
      "200000\n"
     ]
    }
   ],
   "source": [
    "import pyopencl as cl\n",
    "import numpy as np\n",
    "\n",
    "a_np = np.random.rand(50000).astype(np.float32)\n",
    "b_np = np.random.rand(50000).astype(np.float32)\n",
    "\n",
    "ctx = cl.create_some_context()\n",
    "queue = cl.CommandQueue(ctx)\n",
    "\n",
    "mf = cl.mem_flags\n",
    "a_g = cl.Buffer(ctx, mf.READ_ONLY | mf.COPY_HOST_PTR, hostbuf=a_np)\n",
    "b_g = cl.Buffer(ctx, mf.READ_ONLY | mf.COPY_HOST_PTR, hostbuf=b_np)\n",
    "\n",
    "prg = cl.Program(ctx, \"\"\"\n",
    "__kernel void sum(\n",
    "    __global const float *a_g, __global const float *b_g, __global float *res_g)\n",
    "{\n",
    "  int gid = get_global_id(0);\n",
    "  res_g[gid] = a_g[gid] + b_g[gid];\n",
    "}\n",
    "\"\"\").build()\n",
    "\n",
    "res_g = cl.Buffer(ctx, mf.WRITE_ONLY, a_np.nbytes)\n",
    "knl = prg.sum  # Use this Kernel object for repeated calls\n",
    "knl(queue, a_np.shape, None, a_g, b_g, res_g)\n",
    "\n",
    "res_np = np.empty_like(a_np)\n",
    "cl.enqueue_copy(queue, res_np, res_g)\n",
    "print(res_g.size)"
   ]
  },
  {
   "cell_type": "code",
   "execution_count": 31,
   "id": "cc7393eb",
   "metadata": {},
   "outputs": [
    {
     "name": "stdout",
     "output_type": "stream",
     "text": [
      "[0, 1, 2, 3, 4, 5, 6, 7, 8, 9, 10, 11, 12, 13, 14, 15, 16, 17, 18, 19, 20, 21, 22, 23, 24, 25, 26, 27, 28, 29, 30, 31, 32, 33, 34, 35, 36, 37, 38, 39, 40, 41, 42, 43, 44, 45, 46, 47, 48, 49, 50, 51, 52, 53, 54, 55, 56, 57, 58, 59, 60, 61, 62, 63, 64, 65, 66, 67, 68, 69, 70, 71, 72, 73, 74, 75, 76, 77, 78, 79, 80, 81, 82, 83, 84, 85, 86, 87, 88, 89, 90, 91, 92, 93, 94, 95, 96, 97, 98, 99, 100, 101, 102, 103, 104, 105, 106, 107, 108, 109, 110, 111, 112, 113, 114, 115, 116, 117, 118, 119, 120, 121, 122, 123, 124, 125, 126, 127, 128, 129, 130, 131, 132, 133, 134, 135, 136, 137, 138, 139, 140, 141, 142, 143, 144, 145, 146, 147, 148, 149, 150, 151, 152, 153, 154, 155, 156, 157, 158, 159, 160, 161, 162, 163, 164, 165, 166, 167, 168, 169, 170, 171, 172, 173, 174, 175, 176, 177, 178, 179, 180, 181, 182, 183, 184, 185, 186, 187, 188, 189, 190, 191, 192, 193, 194, 195, 196, 197, 198, 199, 200, 201, 202, 203, 204, 205, 206, 207, 208, 209, 210, 211, 212, 213, 214, 215, 216, 217, 218, 219, 220, 221, 222, 223, 224, 225, 226, 227, 228, 229, 230, 231, 232, 233, 234, 235, 236, 237, 238, 239, 240, 241, 242, 243, 244, 245, 246, 247, 248, 249, 250, 251, 252, 253, 254, 255]\n"
     ]
    }
   ],
   "source": [
    "from PIL import Image\n",
    "import numpy as np\n",
    "\n",
    "lss = Image.open('./cat.bmp')\n",
    "arr = np.array(lss.getdata(), np.int32)\n",
    "\n",
    "val_arr = [x for x in range(0, 256)]\n",
    "print(val_arr)"
   ]
  },
  {
   "cell_type": "code",
   "execution_count": 36,
   "id": "448de0f8",
   "metadata": {},
   "outputs": [
    {
     "data": {
      "text/plain": [
       "[<matplotlib.lines.Line2D at 0x7f8c3e4db6d0>]"
      ]
     },
     "execution_count": 36,
     "metadata": {},
     "output_type": "execute_result"
    },
    {
     "data": {
      "image/png": "[encoded data removed]",
      "text/plain": [
       "<Figure size 640x480 with 1 Axes>"
      ]
     },
     "metadata": {},
     "output_type": "display_data"
    }
   ],
   "source": [
    "import pyopencl as cl\n",
    "from PIL import Image\n",
    "import numpy as np\n",
    "import matplotlib.pyplot as plt\n",
    "\n",
    "lss = Image.open('./cat.bmp')\n",
    "arr = np.array(lss.getdata(), np.int32)\n",
    "\n",
    "platforms = cl.get_platforms()\n",
    "ctx = cl.Context(\n",
    "        dev_type=cl.device_type.ALL,\n",
    "        properties=[(cl.context_properties.PLATFORM, platforms[2])])\n",
    "#ctx = cl.create_some_context()\n",
    "queue = cl.CommandQueue(ctx)\n",
    "\n",
    "mf = cl.mem_flags\n",
    "arr_g = cl.Buffer(ctx, mf.READ_ONLY | mf.COPY_HOST_PTR, hostbuf=arr)\n",
    "\n",
    "prg = cl.Program(ctx, \"\"\"\n",
    "#define HIST_BINS 256\n",
    "\n",
    "__kernel void histogram(__global int *data, int  numData, __global int *histogram) {\n",
    "\n",
    "  __local int localHistorgram[HIST_BINS];\n",
    "  int lid = get_local_id(0);\n",
    "  int gid = get_global_id(0);\n",
    "  \n",
    "  /* Initialize local histogram to zero */\n",
    "  for (int i = lid; i < HIST_BINS; i += get_local_size(0)) {\n",
    "    localHistorgram[i] = 0;\n",
    "  }\n",
    "  \n",
    "  /* Wait nutil all work-items within\n",
    "   * the work-group have completed their stores */\n",
    "  barrier(CLK_LOCAL_MEM_FENCE);\n",
    "  \n",
    "  /* Compute local histogram */\n",
    "  for (int i = gid; i < numData; i += get_global_size(0)) {\n",
    "    atomic_add(&localHistorgram[data[i]], 1);\n",
    "  }\n",
    "  \n",
    "  /* Wait nutil all work-items within\n",
    "   * the work-group have completed their stores */\n",
    "  barrier(CLK_LOCAL_MEM_FENCE);\n",
    "  \n",
    "  /* Write the local histogram out to\n",
    "   * the global histogram */\n",
    "  for (int i = lid; i < HIST_BINS; i += get_global_size(0)) {\n",
    "    atomic_add(&histogram[i], localHistorgram[i]);\n",
    "  }\n",
    "}\n",
    "\"\"\").build()\n",
    "\n",
    "res_g = cl.Buffer(ctx, mf.WRITE_ONLY, 256 * 4)\n",
    "cl.enqueue_fill_buffer(queue, res_g, cl.cltypes.int(0), 0, 256 * 4)\n",
    "\n",
    "knl = prg.histogram \n",
    "knl(queue, (1024,), (64,), arr_g, cl.cltypes.int(arr.size), res_g)\n",
    "\n",
    "res_np = np.empty(256, dtype=cl.cltypes.int)\n",
    "#print(type(res_np))\n",
    "cl.enqueue_copy(queue, res_np, res_g)\n",
    "\n",
    "val_arr = [x for x in range(0, 256)]\n",
    "\n",
    "plt.plot(val_arr, res_np)"
   ]
  },
  {
   "cell_type": "code",
   "execution_count": null,
   "id": "c6edc90a",
   "metadata": {},
   "outputs": [],
   "source": [
    "from PIL import Image\n",
    "\n",
    "display(Image.open('cat.bmp'))"
   ]
  },
  {
   "cell_type": "code",
   "execution_count": 2,
   "id": "86c60fd6",
   "metadata": {},
   "outputs": [
    {
     "name": "stdout",
     "output_type": "stream",
     "text": [
      "/home/qlgr/program-dev/dev-root/opencl/python/ch04\r\n"
     ]
    }
   ],
   "source": [
    "!pwd"
   ]
  },
  {
   "cell_type": "code",
   "execution_count": null,
   "id": "b89800da",
   "metadata": {},
   "outputs": [],
   "source": [
    "import pyopencl as cl\n",
    "from PIL import Image\n",
    "import numpy as np\n",
    "import matplotlib.pyplot as plt\n",
    "\n",
    "lss = Image.open('./cat.bmp')\n",
    "arr = np.array(lss.getdata(), np.float32)\n",
    "\n",
    "platforms = cl.get_platforms()\n",
    "ctx = cl.Context(\n",
    "        dev_type=cl.device_type.ALL,\n",
    "        properties=[(cl.context_properties.PLATFORM, platforms[2])])\n",
    "\n",
    "queue = cl.CommandQueue(ctx)\n",
    "\n",
    "\n",
    "mf = cl.mem_flags\n",
    "arr_g = cl.Buffer(ctx, mf.READ_ONLY | mf.COPY_HOST_PTR, hostbuf=arr)\n",
    "\n",
    "prg = cl.Program(ctx, \"\"\"\n",
    "__constant sampler_t sampler = \n",
    "  CLK_NORMALIZED_COORDS_FALSE |\n",
    "  CLK_FILTER_LINEAR           |\n",
    "  CLK_ADDRESS_CLAMP;\n",
    "\n",
    "__kernel\n",
    "void rotation(\n",
    "  __read_only image2d_t inputImage,\n",
    "  __write_only image2d_t outputImage,\n",
    "  int imageWidth,\n",
    "  int imageHeight,\n",
    "  float theta)\n",
    "{\n",
    "  /* Get global ID for ouput coordinates */\n",
    "  int x = get_global_id(0);\n",
    "  int y = get_global_id(1);\n",
    "\n",
    "  /* Compute image center */\n",
    "  float x0 = imageWidth / 2.0f;\n",
    "  float y0 = imageHeight / 2.0f;\n",
    "\n",
    "  /* Compute the work-item's location relative\n",
    "   * to the image center */\n",
    "  int xprime = x - x0;\n",
    "  int yprime = y - y0;\n",
    "\n",
    "  /* Compute sine and cosine */\n",
    "  float sinTheta = sin(theta);\n",
    "  float cosTheta = cos(theta);\n",
    "\n",
    "  /* Compute the input location */\n",
    "  float2 readCoord;\n",
    "  readCoord.x = xprime * cosTheta - yprime * sinTheta + x0;\n",
    "  readCoord.y = xprime * sinTheta + yprime * cosTheta + y0;\n",
    "\n",
    "//   /* Read the input image */\n",
    "//   float value;\n",
    "//   value = read_imagef(inputImage, sampler, readCoord).x;\n",
    "//\n",
    "//   /* Write the output image */\n",
    "//   write_imagef(outputImage, (int2)(x, y), (float4)(value, 0.f, 0.f, 0.f));\n",
    "\n",
    "   /* Read the input image */\n",
    "  float4 value;\n",
    "  value = read_imagef(inputImage, sampler, readCoord);\n",
    "\n",
    "  /* Write the output image */\n",
    "  write_imagef(outputImage, (int2)(x, y), value);\n",
    "}\n",
    "\"\"\").build()\n",
    "\n",
    "res_g = cl.Buffer(ctx, mf.WRITE_ONLY, 256 * 4)\n",
    "cl.enqueue_fill_buffer(queue, res_g, cl.cltypes.int(0), 0, 256 * 4)\n",
    "\n",
    "knl = prg.histogram \n",
    "knl(queue, (1024,), (64,), arr_g, cl.cltypes.int(arr.size), res_g)\n",
    "\n",
    "res_np = np.empty(256, dtype=cl.cltypes.int)\n",
    "#print(type(res_np))\n",
    "cl.enqueue_copy(queue, res_np, res_g)\n",
    "\n",
    "val_arr = [x for x in range(0, 256)]\n",
    "\n",
    "plt.plot(val_arr, res_np)"
   ]
  }
 ],
 "metadata": {
  "kernelspec": {
   "display_name": "Python 3 (ipykernel)",
   "language": "python",
   "name": "python3"
  },
  "language_info": {
   "codemirror_mode": {
    "name": "ipython",
    "version": 3
   },
   "file_extension": ".py",
   "mimetype": "text/x-python",
   "name": "python",
   "nbconvert_exporter": "python",
   "pygments_lexer": "ipython3",
   "version": "3.10.10"
  }
 },
 "nbformat": 4,
 "nbformat_minor": 5
}
